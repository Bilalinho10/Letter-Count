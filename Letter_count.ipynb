{
  "nbformat": 4,
  "nbformat_minor": 0,
  "metadata": {
    "colab": {
      "name": "Letter count.ipynb",
      "provenance": [],
      "collapsed_sections": []
    },
    "kernelspec": {
      "name": "python3",
      "display_name": "Python 3"
    },
    "language_info": {
      "name": "python"
    }
  },
  "cells": [
    {
      "cell_type": "code",
      "execution_count": 9,
      "metadata": {
        "id": "Yx3Qz8tCcJSI",
        "colab": {
          "base_uri": "https://localhost:8080/"
        },
        "outputId": "2dd59ff0-8087-47a9-cf08-cdb9dc03f845"
      },
      "outputs": [
        {
          "output_type": "stream",
          "name": "stdout",
          "text": [
            "Bir kelime girin: klasdf\n",
            "{'k': 1, 'l': 1, 'a': 1, 's': 1, 'd': 1, 'f': 1}\n"
          ]
        }
      ],
      "source": [
        "def sentence(text) :\n",
        "    empty = {}\n",
        "    for i in text :\n",
        "      empty[i] = text.count(i)\n",
        "    return empty\n",
        "text = input(\"Bir kelime girin: \")\n",
        "print(sentence(text))"
      ]
    },
    {
      "cell_type": "code",
      "source": [
        ""
      ],
      "metadata": {
        "id": "qepbLWM-vCLj"
      },
      "execution_count": null,
      "outputs": []
    }
  ]
}