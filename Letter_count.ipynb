{
  "nbformat": 4,
  "nbformat_minor": 0,
  "metadata": {
    "colab": {
      "name": "Letter count.ipynb",
      "provenance": [],
      "collapsed_sections": []
    },
    "kernelspec": {
      "name": "python3",
      "display_name": "Python 3"
    },
    "language_info": {
      "name": "python"
    }
  },
  "cells": [
    {
      "cell_type": "code",
      "execution_count": 8,
      "metadata": {
        "id": "Yx3Qz8tCcJSI",
        "colab": {
          "base_uri": "https://localhost:8080/"
        },
        "outputId": "390d1f69-de4b-4daf-ba94-f1129a24a9e6"
      },
      "outputs": [
        {
          "output_type": "stream",
          "name": "stdout",
          "text": [
            "Bir kelime girin: hasdf\n",
            "{'h': 1, 'a': 1, 's': 1, 'd': 1, 'f': 1}\n"
          ]
        }
      ],
      "source": [
        "def kelime(text) :\n",
        "    empty = {}\n",
        "    for i in text :\n",
        "      empty[i] = text.count(i)\n",
        "    return empty\n",
        "text = input(\"Bir kelime girin: \")\n",
        "print(kelime(text))"
      ]
    },
    {
      "cell_type": "code",
      "source": [
        "sentence=input(\"Please enter a sentence: \")\n",
        "letter_count={}\n",
        "\n",
        "for i in sentence:\n",
        "    letter_count[i]=sentence.count(i)\n",
        "print(letter_count)"
      ],
      "metadata": {
        "colab": {
          "base_uri": "https://localhost:8080/"
        },
        "id": "sfMnwNA6ua3D",
        "outputId": "7db02047-9542-4348-e911-9c349e73285d"
      },
      "execution_count": 2,
      "outputs": [
        {
          "output_type": "stream",
          "name": "stdout",
          "text": [
            "Please enter a sentence: selamlar\n",
            "{'s': 1, 'e': 1, 'l': 2, 'a': 2, 'm': 1, 'r': 1}\n"
          ]
        }
      ]
    },
    {
      "cell_type": "code",
      "source": [
        "cümle = list(input(\"bir cümle giriniz : \"))\n",
        "sonuç = {}\n",
        "for i in cümle :\n",
        "    if i not in sonuç :\n",
        "        sonuç[i] = cümle.count(i)\n",
        "print(sonuç)"
      ],
      "metadata": {
        "colab": {
          "base_uri": "https://localhost:8080/"
        },
        "id": "AYlgQhF7uqmH",
        "outputId": "eb53eb62-b2ff-42ce-ceb1-e122938748b2"
      },
      "execution_count": 3,
      "outputs": [
        {
          "output_type": "stream",
          "name": "stdout",
          "text": [
            "bir cümle giriniz : asdfasö\n",
            "{'a': 2, 's': 2, 'd': 1, 'f': 1, 'ö': 1}\n"
          ]
        }
      ]
    },
    {
      "cell_type": "code",
      "source": [
        "def char_counter(value_entered):\n",
        "    total = {}\n",
        "    for i in value_entered:\n",
        "        if i not in total.keys():\n",
        "            c_val = value_entered.count(i)\n",
        "            total.update([(i, c_val)])\n",
        "    return total\n",
        "print(char_counter(input(\"Please enter your text here: \")))"
      ],
      "metadata": {
        "colab": {
          "base_uri": "https://localhost:8080/"
        },
        "id": "i_cjOlZ4u0lF",
        "outputId": "2a1a8491-f5f6-4a14-ef24-4910f38141b7"
      },
      "execution_count": 4,
      "outputs": [
        {
          "output_type": "stream",
          "name": "stdout",
          "text": [
            "Please enter your text here: asölkflköasf\n",
            "{'a': 2, 's': 2, 'ö': 2, 'l': 2, 'k': 2, 'f': 2}\n"
          ]
        }
      ]
    },
    {
      "cell_type": "code",
      "source": [
        ""
      ],
      "metadata": {
        "id": "qepbLWM-vCLj"
      },
      "execution_count": null,
      "outputs": []
    }
  ]
}